{
 "cells": [
  {
   "cell_type": "code",
   "execution_count": 2,
   "metadata": {},
   "outputs": [],
   "source": [
    "import shapefile"
   ]
  },
  {
   "cell_type": "code",
   "execution_count": 12,
   "metadata": {},
   "outputs": [
    {
     "ename": "ShapefileException",
     "evalue": "Unable to open shape\\Chengdu_shp\\chengdu.dbf or shape\\Chengdu_shp\\chengdu.shp.",
     "output_type": "error",
     "traceback": [
      "\u001b[1;31m---------------------------------------------------------------------------\u001b[0m",
      "\u001b[1;31mShapefileException\u001b[0m                        Traceback (most recent call last)",
      "Cell \u001b[1;32mIn[12], line 3\u001b[0m\n\u001b[0;32m      1\u001b[0m \u001b[39m#读取数据\u001b[39;00m\n\u001b[0;32m      2\u001b[0m file_path \u001b[39m=\u001b[39m \u001b[39m\"\u001b[39m\u001b[39mshape\u001b[39m\u001b[39m\\\\\u001b[39;00m\u001b[39mChengdu_shp\u001b[39m\u001b[39m\\\\\u001b[39;00m\u001b[39mchengdu\u001b[39m\u001b[39m\"\u001b[39m\n\u001b[1;32m----> 3\u001b[0m file \u001b[39m=\u001b[39m shapefile\u001b[39m.\u001b[39;49mReader(file_path)\n",
      "File \u001b[1;32md:\\app\\py\\anoconda\\envs\\aatroxchen_v\\lib\\site-packages\\shapefile.py:1048\u001b[0m, in \u001b[0;36mReader.__init__\u001b[1;34m(self, *args, **kwargs)\u001b[0m\n\u001b[0;32m   1043\u001b[0m                 \u001b[39mraise\u001b[39;00m ShapefileException(\u001b[39m\"\u001b[39m\u001b[39mNo shp or dbf file found at url: \u001b[39m\u001b[39m%s\u001b[39;00m\u001b[39m\"\u001b[39m \u001b[39m%\u001b[39m path)\n\u001b[0;32m   1045\u001b[0m         \u001b[39melse\u001b[39;00m:\n\u001b[0;32m   1046\u001b[0m             \u001b[39m# Local file path to a shapefile\u001b[39;00m\n\u001b[0;32m   1047\u001b[0m             \u001b[39m# Load and exit early\u001b[39;00m\n\u001b[1;32m-> 1048\u001b[0m             \u001b[39mself\u001b[39;49m\u001b[39m.\u001b[39;49mload(path)\n\u001b[0;32m   1049\u001b[0m             \u001b[39mreturn\u001b[39;00m\n\u001b[0;32m   1051\u001b[0m \u001b[39m# Otherwise, load from separate shp/shx/dbf args (must be path or file-like)\u001b[39;00m\n",
      "File \u001b[1;32md:\\app\\py\\anoconda\\envs\\aatroxchen_v\\lib\\site-packages\\shapefile.py:1193\u001b[0m, in \u001b[0;36mReader.load\u001b[1;34m(self, shapefile)\u001b[0m\n\u001b[0;32m   1191\u001b[0m     \u001b[39mself\u001b[39m\u001b[39m.\u001b[39mload_dbf(shapeName)\n\u001b[0;32m   1192\u001b[0m     \u001b[39mif\u001b[39;00m \u001b[39mnot\u001b[39;00m (\u001b[39mself\u001b[39m\u001b[39m.\u001b[39mshp \u001b[39mor\u001b[39;00m \u001b[39mself\u001b[39m\u001b[39m.\u001b[39mdbf):\n\u001b[1;32m-> 1193\u001b[0m         \u001b[39mraise\u001b[39;00m ShapefileException(\u001b[39m\"\u001b[39m\u001b[39mUnable to open \u001b[39m\u001b[39m%s\u001b[39;00m\u001b[39m.dbf or \u001b[39m\u001b[39m%s\u001b[39;00m\u001b[39m.shp.\u001b[39m\u001b[39m\"\u001b[39m \u001b[39m%\u001b[39m (shapeName, shapeName))\n\u001b[0;32m   1194\u001b[0m \u001b[39mif\u001b[39;00m \u001b[39mself\u001b[39m\u001b[39m.\u001b[39mshp:\n\u001b[0;32m   1195\u001b[0m     \u001b[39mself\u001b[39m\u001b[39m.\u001b[39m__shpHeader()\n",
      "\u001b[1;31mShapefileException\u001b[0m: Unable to open shape\\Chengdu_shp\\chengdu.dbf or shape\\Chengdu_shp\\chengdu.shp."
     ]
    }
   ],
   "source": [
    "# 读取数据\n",
    "file_path = \"shape\\\\Chengdu_shp\\\\\"\n",
    "file = shapefile.Reader(file_path)"
   ]
  }
 ],
 "metadata": {
  "kernelspec": {
   "display_name": "aatroxchen_v",
   "language": "python",
   "name": "python3"
  },
  "language_info": {
   "codemirror_mode": {
    "name": "ipython",
    "version": 3
   },
   "file_extension": ".py",
   "mimetype": "text/x-python",
   "name": "python",
   "nbconvert_exporter": "python",
   "pygments_lexer": "ipython3",
   "version": "3.9.13"
  },
  "orig_nbformat": 4
 },
 "nbformat": 4,
 "nbformat_minor": 2
}
