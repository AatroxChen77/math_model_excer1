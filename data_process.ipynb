{
 "cells": [
  {
   "cell_type": "code",
   "execution_count": null,
   "metadata": {},
   "outputs": [],
   "source": [
    "# 模块导入\n",
    "import pandas as pd"
   ]
  },
  {
   "cell_type": "code",
   "execution_count": null,
   "metadata": {},
   "outputs": [],
   "source": [
    "# 读入txt 每一行的数据形如:1,30.624806,104.136604,1,2014/8/3 21:18:46\n",
    "# 1:出租车ID 2:维度 3:经度 4:载客情况(1为有,0为无) 5:时间\n",
    "# 读入txt文件，将每个出租车的数据分别存入一个csv文件中\n",
    "file_path=\"20140803_train.txt\"\n",
    "column_names=['taxi_id','latitude','longitude','passenger','time']\n",
    "# 读入txt文件1\n",
    "df=pd.read_csv(file_path,sep=',',header=None,names=column_names)\n"
   ]
  },
  {
   "cell_type": "code",
   "execution_count": null,
   "metadata": {},
   "outputs": [],
   "source": [
    "df.head(5)"
   ]
  },
  {
   "cell_type": "markdown",
   "metadata": {},
   "source": [
    "# 数据预处理"
   ]
  },
  {
   "cell_type": "code",
   "execution_count": null,
   "metadata": {},
   "outputs": [],
   "source": [
    "# 提取出taxi_id为1和2的数据\n",
    "df_selected = df[(df['taxi_id']==1) | (df['taxi_id']==2)].copy()"
   ]
  },
  {
   "cell_type": "code",
   "execution_count": null,
   "metadata": {},
   "outputs": [],
   "source": [
    "# 把time列形如:2014/8/3 06:00:53的数据转换成易于处理的形式\n",
    "df_selected['time']=pd.to_datetime(df_selected['time'],format='%Y/%m/%d %H:%M:%S')"
   ]
  },
  {
   "cell_type": "code",
   "execution_count": null,
   "metadata": {},
   "outputs": [],
   "source": [
    "# 增加一列time_s,表示以秒为单位的时间\n",
    "df_selected['time_s']=df_selected['time'].dt.hour*3600+df_selected['time'].dt.minute*60+df_selected['time'].dt.second\n",
    "# 以taxi_id为第一关键字，以time为第二关键字，对数据进行排序\n",
    "df_selected=df_selected.sort_values(by=['taxi_id','time_s'])"
   ]
  },
  {
   "cell_type": "code",
   "execution_count": null,
   "metadata": {},
   "outputs": [],
   "source": [
    "# 每辆车的GPS数据采取的时间间隔最长和最短值\n",
    "time_interval_min = df_selected.groupby('taxi_id')['time_s'].diff().min()\n",
    "time_interval_max = df_selected.groupby('taxi_id')['time_s'].diff().max()"
   ]
  },
  {
   "cell_type": "code",
   "execution_count": null,
   "metadata": {},
   "outputs": [],
   "source": [
    "# 定义一个函数，用来计算两个经纬度之间的距离\n",
    "from geopy.distance import geodesic\n",
    "\n",
    "def get_distance(point1, point2):\n",
    "    \"\"\"\n",
    "    计算两个经纬度之间的距离\n",
    "    :param point1: 起点经纬度 (纬度, 经度)\n",
    "    :param point2: 终点经纬度 (纬度, 经度)\n",
    "    :return: 距离（km）\n",
    "    \"\"\"\n",
    "    return geodesic(point1, point2).km"
   ]
  },
  {
   "cell_type": "code",
   "execution_count": null,
   "metadata": {},
   "outputs": [],
   "source": [
    "column_names=['taxi_id','passenger','start_time','end_time','start_latitude','start_longitude','end_latitude','end_longitude','distance']\n",
    "# 当passenger列为1时，表示载客，为0时表示无客,以此来把轨迹GPS划分为载客轨迹和无客轨迹\n",
    "# 并记录载客轨迹和无客轨迹的起始时间和终止时间(s)，起始地点和终止地点、轨迹长度(km)(不是位移)\n",
    "trip_df=pd.DataFrame(columns=column_names)\n",
    "\n",
    "finished = True # 标记是否已经完成一次轨迹的记录\n",
    "cur_passenger = 0 # 当前载客情况\n",
    "cur_distance = 0 # 当前轨迹长度\n",
    "cur_taxi = 0 # 当前出租车ID\n",
    "start_latitude = 0 # 轨迹的起始维度\n",
    "start_longitude = 0 # 轨迹的起始经度\n",
    "# 合并df_selected中连续的载客数据或无客数据，形成一条轨迹\n",
    "for index, row in df_selected.iterrows():\n",
    "    if finished: # 如果已经完成一次轨迹的记录，则开始记录新的轨迹\n",
    "        # 轨迹的起始时间\n",
    "        start_time = row['time_s']\n",
    "        # 轨迹的起始地点\n",
    "        start_latitude = row['latitude']\n",
    "        start_longitude = row['longitude']\n",
    "        # 轨迹的载客情况\n",
    "        cur_passenger = row['passenger']\n",
    "        # 轨迹的长度\n",
    "        cur_distance = 0\n",
    "        # 轨迹的出租车ID\n",
    "        cur_taxi = row['taxi_id']\n",
    "        # 记录完成标志赋值为False\n",
    "        finished = False\n",
    "        continue # 跳过本次循环\n",
    "    if (cur_passenger != row['passenger'] and cur_taxi == row['taxi_id']) or cur_taxi != row['taxi_id']:\n",
    "        # 如果载客情况发生了变化或者出租车ID发生了变化，则表示本段轨迹记录完成，记录其终止时间、终止地点\n",
    "        end_time = row['time_s']\n",
    "        end_latitude = row['latitude']\n",
    "        end_longitude = row['longitude']\n",
    "        cur_distance += get_distance((start_latitude, start_longitude), (end_latitude, end_longitude))\n",
    "        # 将轨迹的信息记录到trip_df中\n",
    "        trip_df = trip_df.append({'taxi_id': cur_taxi, 'passenger': cur_passenger, 'start_time': start_time, 'end_time': end_time, 'start_longitude': start_longitude, 'start_latitude': start_latitude, 'end_longitude': end_longitude, 'end_latitude': end_latitude, 'distance': cur_distance}, ignore_index=True)\n",
    "        finished = True\n",
    "    else: # 如果载客情况没有发生变化，则添加轨迹长度，继续记录轨迹\n",
    "        cur_distance += get_distance((row['latitude'], row['longitude']), (start_latitude, start_longitude))"
   ]
  },
  {
   "cell_type": "code",
   "execution_count": null,
   "metadata": {},
   "outputs": [],
   "source": []
  }
 ],
 "metadata": {
  "kernelspec": {
   "display_name": "aatroxchen_v",
   "language": "python",
   "name": "python3"
  },
  "language_info": {
   "codemirror_mode": {
    "name": "ipython",
    "version": 3
   },
   "file_extension": ".py",
   "mimetype": "text/x-python",
   "name": "python",
   "nbconvert_exporter": "python",
   "pygments_lexer": "ipython3",
   "version": "3.9.13"
  },
  "orig_nbformat": 4
 },
 "nbformat": 4,
 "nbformat_minor": 2
}
