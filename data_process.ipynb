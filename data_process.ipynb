{
 "cells": [
  {
   "cell_type": "code",
   "execution_count": 1,
   "metadata": {},
   "outputs": [],
   "source": [
    "# 模块导入\n",
    "import pandas as pd\n",
    "from multiprocessing import Process, Queue,Lock\n",
    "from concurrent.futures import ProcessPoolExecutor\n",
    "\n",
    "from geopy.distance import geodesic\n",
    "import time"
   ]
  },
  {
   "cell_type": "code",
   "execution_count": 2,
   "metadata": {},
   "outputs": [],
   "source": [
    "# 读入txt 每一行的数据形如:1,30.624806,104.136604,1,2014/8/3 21:18:46\n",
    "# 1:出租车ID 2:维度 3:经度 4:载客情况(1为有,0为无) 5:时间\n",
    "# 读入txt文件，将每个出租车的数据分别存入一个csv文件中\n",
    "file_path=\"20140803_train.txt\"\n",
    "column_names=['taxi_id','latitude','longitude','passenger','time']\n",
    "# 读入txt文件1\n",
    "df=pd.read_csv(file_path,sep=',',header=None,names=column_names)"
   ]
  },
  {
   "cell_type": "markdown",
   "metadata": {},
   "source": [
    "# 数据预处理\n",
    "将GPS轨迹数据转为空驶、载客的一段段轨迹数据，包括起始点、终止点、起止时间、终止时间、载客状态和轨迹长度\n",
    "\n",
    "存储在`trip_df`中"
   ]
  },
  {
   "cell_type": "code",
   "execution_count": 9,
   "metadata": {},
   "outputs": [],
   "source": [
    "# 提取出taxi_id为0\\1\\2\\3的数据\n",
    "df_selected = df[df['taxi_id']<=100].copy() # 测试用\n",
    "# df_selected = df"
   ]
  },
  {
   "cell_type": "code",
   "execution_count": 10,
   "metadata": {},
   "outputs": [],
   "source": [
    "# 把time列形如:2014/8/3 06:00:53的数据转换成易于处理的形式\n",
    "df_selected['time']=pd.to_datetime(df_selected['time'],format='%Y/%m/%d %H:%M:%S')\n",
    "# 增加一列time_s,表示以秒为单位的时间\n",
    "df_selected['time_s']=df_selected['time'].dt.hour*3600+df_selected['time'].dt.minute*60+df_selected['time'].dt.second\n",
    "# 以taxi_id为第一关键字，以time为第二关键字，对数据进行排序\n",
    "df_selected=df_selected.sort_values(by=['taxi_id','time_s'])\n",
    "# 保存排序后的数据\n",
    "df_selected.to_csv('df_selected.csv',index=False)"
   ]
  },
  {
   "cell_type": "markdown",
   "metadata": {},
   "source": [
    "这里开始保存了df_selected，去concur.py里跑（由于多进程的某些原因，需要在main函数里跑）\n",
    "\n",
    "下面这个块只是为了分析测试，不用管"
   ]
  },
  {
   "cell_type": "code",
   "execution_count": 5,
   "metadata": {
    "tags": [
     "可选的",
     "分析用"
    ]
   },
   "outputs": [
    {
     "name": "stdout",
     "output_type": "stream",
     "text": [
      "time_interval_min: 1.0\n",
      "time_interval_max: 297.0\n",
      "taxi_num: 2\n",
      "              taxi_id   latitude   longitude  passenger                time  \\\n",
      "taxi_id                                                                       \n",
      "1       797         1  30.650550  104.126311          1 2014-08-03 09:20:23   \n",
      "        1632        1  30.655733  104.115281          1 2014-08-03 09:27:05   \n",
      "        1639        1  30.656019  104.115268          1 2014-08-03 09:27:08   \n",
      "        1642        1  30.656112  104.115263          1 2014-08-03 09:27:09   \n",
      "        1645        1  30.656211  104.115261          1 2014-08-03 09:27:10   \n",
      "        1646        1  30.656309  104.115260          1 2014-08-03 09:27:11   \n",
      "        1844        1  30.680516  104.100271          1 2014-08-03 09:53:54   \n",
      "        1900        1  30.683680  104.100539          1 2014-08-03 10:10:20   \n",
      "        1712        1  30.670089  104.106788          1 2014-08-03 10:15:03   \n",
      "        795         1  30.650510  104.126379          1 2014-08-03 14:45:01   \n",
      "        103         1  30.625068  104.137207          1 2014-08-03 21:47:52   \n",
      "        346         1  30.626578  104.135044          1 2014-08-03 21:48:19   \n",
      "        1638        1  30.655989  104.115209          1 2014-08-03 22:13:52   \n",
      "\n",
      "              time_s  \n",
      "taxi_id               \n",
      "1       797    33623  \n",
      "        1632   34025  \n",
      "        1639   34028  \n",
      "        1642   34029  \n",
      "        1645   34030  \n",
      "        1646   34031  \n",
      "        1844   35634  \n",
      "        1900   36620  \n",
      "        1712   36903  \n",
      "        795    53101  \n",
      "        103    78472  \n",
      "        346    78499  \n",
      "        1638   80032  \n",
      "              taxi_id  latitude   longitude  passenger                time  \\\n",
      "taxi_id                                                                      \n",
      "1       1554        1  30.65471  104.121472          0 2014-08-03 07:05:10   \n",
      "\n",
      "              time_s  \n",
      "taxi_id               \n",
      "1       1554   25510  \n"
     ]
    }
   ],
   "source": [
    "# 每辆车的GPS数据采取的时间间隔最长和最短值\n",
    "time_interval_min = df_selected.groupby('taxi_id')['time_s'].diff().min()\n",
    "time_interval_max = df_selected.groupby('taxi_id')['time_s'].diff().max()\n",
    "print('time_interval_min:',time_interval_min)\n",
    "print('time_interval_max:',time_interval_max)\n",
    "\n",
    "# 车辆总数\n",
    "taxi_num = df_selected['taxi_id'].unique().shape[0]\n",
    "print('taxi_num:',taxi_num)\n",
    "\n",
    "# 找出每辆车 时间间隔为time_interval_min的数据\n",
    "df_test = df_selected.groupby('taxi_id').apply(lambda x:x[x['time_s'].diff()==time_interval_min])\n",
    "print(df_test)\n",
    "# 找出每辆车 时间间隔为time_interval_max的数据\n",
    "df_test = df_selected.groupby('taxi_id').apply(lambda x:x[x['time_s'].diff()==time_interval_max])\n",
    "print(df_test)"
   ]
  },
  {
   "cell_type": "markdown",
   "metadata": {},
   "source": [
    "# 数据分析\n",
    "计算目标:每辆出租车的里程利用率、时间利用率、总空驶时间\n",
    "\n",
    "存储在`taxi_df`中"
   ]
  },
  {
   "cell_type": "markdown",
   "metadata": {},
   "source": [
    "计算目标:成都市一天内的打车需求时间分布\n",
    "\n",
    "可以根据`trip_df`中每单的起始时间，根据24小时进行分布统计，得到一天内的打车需求时间分布"
   ]
  },
  {
   "cell_type": "code",
   "execution_count": null,
   "metadata": {},
   "outputs": [],
   "source": []
  },
  {
   "cell_type": "markdown",
   "metadata": {},
   "source": [
    "计算目标:成都市一天内的打车需求地区分布"
   ]
  }
 ],
 "metadata": {
  "kernelspec": {
   "display_name": "aatroxchen_v",
   "language": "python",
   "name": "python3"
  },
  "language_info": {
   "codemirror_mode": {
    "name": "ipython",
    "version": 3
   },
   "file_extension": ".py",
   "mimetype": "text/x-python",
   "name": "python",
   "nbconvert_exporter": "python",
   "pygments_lexer": "ipython3",
   "version": "3.9.13"
  },
  "orig_nbformat": 4
 },
 "nbformat": 4,
 "nbformat_minor": 2
}
