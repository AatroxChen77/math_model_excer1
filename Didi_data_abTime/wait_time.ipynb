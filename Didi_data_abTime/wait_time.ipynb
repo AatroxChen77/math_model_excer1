{
 "cells": [
  {
   "cell_type": "code",
   "execution_count": 2,
   "metadata": {},
   "outputs": [],
   "source": [
    "# 模块导入\n",
    "import pandas as pd\n",
    "import matplotlib.pyplot as plt\n",
    "# plt设置\n",
    "plt.rcParams['font.sans-serif'] = ['SimHei']  # 用来正常显示中文标签\n",
    "plt.rcParams['axes.unicode_minus'] = False  # 用来正常显示负号"
   ]
  },
  {
   "cell_type": "code",
   "execution_count": 3,
   "metadata": {},
   "outputs": [
    {
     "data": {
      "text/html": [
       "<div>\n",
       "<style scoped>\n",
       "    .dataframe tbody tr th:only-of-type {\n",
       "        vertical-align: middle;\n",
       "    }\n",
       "\n",
       "    .dataframe tbody tr th {\n",
       "        vertical-align: top;\n",
       "    }\n",
       "\n",
       "    .dataframe thead th {\n",
       "        text-align: right;\n",
       "    }\n",
       "</style>\n",
       "<table border=\"1\" class=\"dataframe\">\n",
       "  <thead>\n",
       "    <tr style=\"text-align: right;\">\n",
       "      <th></th>\n",
       "      <th>date</th>\n",
       "      <th>hour</th>\n",
       "      <th>requests</th>\n",
       "      <th>trips</th>\n",
       "      <th>supply hours</th>\n",
       "      <th>average minutes of trips</th>\n",
       "      <th>pETA</th>\n",
       "      <th>aETA</th>\n",
       "      <th>utiliz</th>\n",
       "    </tr>\n",
       "  </thead>\n",
       "  <tbody>\n",
       "    <tr>\n",
       "      <th>0</th>\n",
       "      <td>2013-09-01</td>\n",
       "      <td>11</td>\n",
       "      <td>79</td>\n",
       "      <td>55</td>\n",
       "      <td>42.63</td>\n",
       "      <td>20.43</td>\n",
       "      <td>5.51</td>\n",
       "      <td>7.19</td>\n",
       "      <td>0.479240</td>\n",
       "    </tr>\n",
       "    <tr>\n",
       "      <th>1</th>\n",
       "      <td>2013-09-01</td>\n",
       "      <td>12</td>\n",
       "      <td>73</td>\n",
       "      <td>41</td>\n",
       "      <td>36.43</td>\n",
       "      <td>15.53</td>\n",
       "      <td>5.48</td>\n",
       "      <td>8.48</td>\n",
       "      <td>0.426297</td>\n",
       "    </tr>\n",
       "  </tbody>\n",
       "</table>\n",
       "</div>"
      ],
      "text/plain": [
       "        date  hour  requests  trips  supply hours  average minutes of trips  \\\n",
       "0 2013-09-01    11        79     55         42.63                     20.43   \n",
       "1 2013-09-01    12        73     41         36.43                     15.53   \n",
       "\n",
       "   pETA  aETA    utiliz  \n",
       "0  5.51  7.19  0.479240  \n",
       "1  5.48  8.48  0.426297  "
      ]
     },
     "execution_count": 3,
     "metadata": {},
     "output_type": "execute_result"
    }
   ],
   "source": [
    "\"\"\" 数据说明\n",
    "   \n",
    "    test.xlsx:\n",
    "\n",
    "    date：日期\n",
    "    group：组别（控制组/实验组）\n",
    "    requests：订单请求数\n",
    "    gmv：成交总额\n",
    "    coupon per trip：每单优惠券金额\n",
    "    trips：订单数\n",
    "    canceled requests：取消请求数\n",
    "\n",
    "    city.xlsx:\n",
    "\n",
    "    date：日期\n",
    "    hour：时点\n",
    "    requests：请求数\n",
    "    trips：订单数\n",
    "    supply hours：可服务时长\n",
    "    average minutes of trips：平均订单时长（分钟）\n",
    "    pETA：顾客预计等待时长\n",
    "    aETA：顾客实际等待时长\n",
    "    utiliz：司机在忙率\n",
    "\n",
    "\"\"\"\n",
    "\n",
    "# 读取数据\n",
    "city_df = pd.read_excel('city.xlsx')\n",
    "city_df.head(2)"
   ]
  },
  {
   "cell_type": "code",
   "execution_count": 11,
   "metadata": {},
   "outputs": [
    {
     "name": "stdout",
     "output_type": "stream",
     "text": [
      "顾客实际等待时长最大值:12.06分钟\n",
      "顾客实际等待时长最小值:4.61分钟\n",
      "0\n"
     ]
    },
    {
     "data": {
      "image/png": "[encoded data removed]",
      "text/plain": [
       "<Figure size 640x480 with 1 Axes>"
      ]
     },
     "metadata": {},
     "output_type": "display_data"
    }
   ],
   "source": [
    "\"\"\"\n",
    "字段分析:aETA：顾客实际等待时长\n",
    "\"\"\"\n",
    "# 最大值和最小值\n",
    "max_aETA, min_aETA = city_df['aETA'].max(), city_df['aETA'].min()\n",
    "print(\"顾客实际等待时长最大值:{}分钟\".format(max_aETA))\n",
    "print(\"顾客实际等待时长最小值:{}分钟\".format(min_aETA))\n",
    "\n",
    "# 检查有无顾客实际等待时长为0的异常值\n",
    "print(len(city_df[city_df['aETA'] == 0]))\n",
    "# 为可视化顾客实际等待时长频率分布\n",
    "bins = int(max_aETA)-int(min_aETA)+1\n",
    "plt.hist(city_df['aETA'].apply(lambda x: int(x)), bins=bins,rwidth=0.5,density=True)\n",
    "plt.xlabel('时长/min')\n",
    "plt.ylabel('频率')\n",
    "plt.title('顾客实际等待时长分布图')\n",
    "plt.savefig('顾客实际等待时长分布图.png',dpi=300,bbox_inches='tight')"
   ]
  },
  {
   "cell_type": "code",
   "execution_count": 5,
   "metadata": {},
   "outputs": [
    {
     "name": "stdout",
     "output_type": "stream",
     "text": [
      "平均顾客实际等待时长:7.20分钟\n"
     ]
    }
   ],
   "source": [
    "# 计算出总体的 平均顾客实际等待时长\n",
    "wait_time_mean = city_df['aETA'].mean()\n",
    "print('平均顾客实际等待时长:{:.2f}分钟'.format(wait_time_mean))"
   ]
  }
 ],
 "metadata": {
  "kernelspec": {
   "display_name": "aatroxchen_v",
   "language": "python",
   "name": "python3"
  },
  "language_info": {
   "codemirror_mode": {
    "name": "ipython",
    "version": 3
   },
   "file_extension": ".py",
   "mimetype": "text/x-python",
   "name": "python",
   "nbconvert_exporter": "python",
   "pygments_lexer": "ipython3",
   "version": "3.9.13"
  },
  "orig_nbformat": 4
 },
 "nbformat": 4,
 "nbformat_minor": 2
}
