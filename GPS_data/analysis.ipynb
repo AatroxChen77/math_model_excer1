{
 "cells": [
  {
   "cell_type": "markdown",
   "metadata": {},
   "source": [
    "# 数据分析\n",
    "计算目标:每辆出租车的里程利用率、时间利用率、总空驶时间\n",
    "存储在`taxi_df`中"
   ]
  },
  {
   "cell_type": "code",
   "execution_count": 19,
   "metadata": {},
   "outputs": [],
   "source": [
    "# 模块导入\n",
    "import pandas as pd\n",
    "import matplotlib.pyplot as plt\n",
    "# plt设置\n",
    "plt.rcParams['font.sans-serif'] = ['SimHei']  # 用来正常显示中文标签\n",
    "plt.rcParams['axes.unicode_minus'] = False  # 用来正常显示负号"
   ]
  },
  {
   "cell_type": "code",
   "execution_count": 3,
   "metadata": {},
   "outputs": [
    {
     "name": "stdout",
     "output_type": "stream",
     "text": [
      "0\n",
      "0\n"
     ]
    }
   ],
   "source": [
    "# 数据读取\n",
    "trip_df = pd.read_pickle('trip_df.pkl')\n",
    "# 异常值检查:\n",
    "print(len(trip_df[trip_df['distance'] == 0])) # 轨迹长度为0\n",
    "print(len(trip_df[trip_df['start_time'] == trip_df['end_time']])) # 行程时间为0"
   ]
  },
  {
   "cell_type": "code",
   "execution_count": 4,
   "metadata": {},
   "outputs": [],
   "source": [
    "\"\"\" \n",
    "根据trip_df中的数据，计算每辆出租车的里程利用率、时间利用率、总空驶时间，\n",
    "并将结果保存到taxi_df中\n",
    "\n",
    "taxi_df 说明：\n",
    "\n",
    "    taxi_id: 出租车id\n",
    "    mileage_utilization: 里程利用率\n",
    "    time_utilization: 时间利用率\n",
    "    empty_time: 总空驶时间\n",
    "\"\"\"\n",
    "\n",
    "taxi_df = pd.DataFrame(columns=['taxi_id', 'mileage_utilization', 'time_utilization', 'empty_time'])\n",
    "for taxi_id in trip_df['taxi_id'].unique():\n",
    "    # 计算每辆出租车的里程利用率、时间利用率、总空驶时间\n",
    "    mileage_utilization = trip_df[(trip_df['taxi_id']==taxi_id) & (trip_df['passenger']==1)]['distance'].sum() / \\\n",
    "        trip_df[trip_df['taxi_id']==taxi_id]['distance'].sum()\n",
    "    time_utilization = (trip_df[(trip_df['taxi_id']==taxi_id) & (trip_df['passenger']==1)]['end_time'].sum() - \\\n",
    "                        trip_df[(trip_df['taxi_id']==taxi_id) & (trip_df['passenger']==1)]['start_time'].sum()) / \\\n",
    "                            (trip_df[trip_df['taxi_id']==taxi_id]['end_time'].sum() - \\\n",
    "                             trip_df[trip_df['taxi_id']==taxi_id]['start_time'].sum())\n",
    "    empty_time = trip_df[(trip_df['taxi_id']==taxi_id) & (trip_df['passenger']==0)]['end_time'].sum() - \\\n",
    "        trip_df[(trip_df['taxi_id']==taxi_id) & (trip_df['passenger']==0)]['start_time'].sum()\n",
    "    # 将计算结果记录到taxi_df中\n",
    "    new_row = pd.DataFrame({'taxi_id': taxi_id, 'mileage_utilization': mileage_utilization, 'time_utilization': time_utilization, 'empty_time': empty_time}, index=[0])\n",
    "    taxi_df = pd.concat([taxi_df, new_row], ignore_index=True)\n"
   ]
  },
  {
   "cell_type": "markdown",
   "metadata": {},
   "source": [
    "计算目标:成都市一天内的打车需求时间分布"
   ]
  },
  {
   "cell_type": "code",
   "execution_count": 7,
   "metadata": {},
   "outputs": [
    {
     "name": "stdout",
     "output_type": "stream",
     "text": [
      "[0, 0, 0, 0, 0, 0, 171, 165, 289, 297, 324, 328, 345, 356, 323, 333, 337, 324, 316, 334, 385, 392, 380, 254]\n"
     ]
    }
   ],
   "source": [
    "# 根据trip_df中的time_s对轨迹进行分类(24小时内的轨迹)\n",
    "# 创建一个time_distribution数组，包含24个元素，每个元素代表一个小时内的轨迹数\n",
    "time_distribution = [0 for i in range(24)]\n",
    "for i in range(trip_df.shape[0]):\n",
    "    time_distribution[int(trip_df.iloc[i]['start_time'] / 3600)] += 1\n",
    "print(time_distribution)"
   ]
  },
  {
   "cell_type": "code",
   "execution_count": 22,
   "metadata": {},
   "outputs": [
    {
     "data": {
      "text/plain": [
       "<BarContainer object of 24 artists>"
      ]
     },
     "execution_count": 22,
     "metadata": {},
     "output_type": "execute_result"
    },
    {
     "data": {
      "image/png": "[encoded data removed]",
      "text/plain": [
       "<Figure size 640x480 with 1 Axes>"
      ]
     },
     "metadata": {},
     "output_type": "display_data"
    }
   ],
   "source": [
    "# 画出time_distribution的柱状图\n",
    "plt.title('成都市打车需求量的时间分布')\n",
    "plt.xlabel('小时')\n",
    "plt.ylabel('打车需求量')\n",
    "plt.xticks(range(24)) # 调整x轴的刻度\n",
    "plt.bar(range(24), time_distribution)"
   ]
  },
  {
   "cell_type": "markdown",
   "metadata": {},
   "source": [
    "\n",
    "\n",
    "可以根据`trip_df`中每单的起始时间，根据24小时进行分布统计，得到一天内的打车需求时间分布\n",
    "\n",
    "计算目标:成都市一天内的打车需求地区分布"
   ]
  }
 ],
 "metadata": {
  "kernelspec": {
   "display_name": "aatroxchen_v",
   "language": "python",
   "name": "python3"
  },
  "language_info": {
   "codemirror_mode": {
    "name": "ipython",
    "version": 3
   },
   "file_extension": ".py",
   "mimetype": "text/x-python",
   "name": "python",
   "nbconvert_exporter": "python",
   "pygments_lexer": "ipython3",
   "version": "3.9.13"
  },
  "orig_nbformat": 4
 },
 "nbformat": 4,
 "nbformat_minor": 2
}
