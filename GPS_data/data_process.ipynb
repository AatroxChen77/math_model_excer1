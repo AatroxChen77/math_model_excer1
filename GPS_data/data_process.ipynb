{
 "cells": [
  {
   "cell_type": "code",
   "execution_count": 7,
   "metadata": {},
   "outputs": [],
   "source": [
    "# 模块导入\n",
    "import pandas as pd\n",
    "from multiprocessing import Process, Queue,Lock\n",
    "from concurrent.futures import ProcessPoolExecutor\n",
    "\n",
    "from geopy.distance import geodesic\n",
    "import time"
   ]
  },
  {
   "cell_type": "code",
   "execution_count": 8,
   "metadata": {},
   "outputs": [],
   "source": [
    "# 读入txt 每一行的数据形如:1,30.624806,104.136604,1,2014/8/3 21:18:46\n",
    "# 1:出租车ID 2:维度 3:经度 4:载客情况(1为有,0为无) 5:时间\n",
    "# 读入txt文件，将每个出租车的数据分别存入一个csv文件中\n",
    "file_path=\"all_txt_data\\\\20140803_train.txt\"\n",
    "column_names=['taxi_id','latitude','longitude','passenger','time']\n",
    "# 读入txt文件1\n",
    "df=pd.read_csv(file_path,sep=',',header=None,names=column_names)"
   ]
  },
  {
   "cell_type": "markdown",
   "metadata": {},
   "source": [
    "# 数据预处理\n",
    "将GPS轨迹数据转为空驶、载客的一段段轨迹数据，包括起始点、终止点、起止时间、终止时间、载客状态和轨迹长度\n",
    "\n",
    "存储在`trip_df`中"
   ]
  },
  {
   "cell_type": "code",
   "execution_count": 9,
   "metadata": {},
   "outputs": [
    {
     "name": "stdout",
     "output_type": "stream",
     "text": [
      "<class 'pandas.core.frame.DataFrame'>\n",
      "Int64Index: 362636 entries, 1261 to 361084\n",
      "Data columns (total 5 columns):\n",
      " #   Column     Non-Null Count   Dtype  \n",
      "---  ------     --------------   -----  \n",
      " 0   taxi_id    362636 non-null  int16  \n",
      " 1   latitude   362636 non-null  float32\n",
      " 2   longitude  362636 non-null  float32\n",
      " 3   passenger  362636 non-null  bool   \n",
      " 4   time_s     362636 non-null  int32  \n",
      "dtypes: bool(1), float32(2), int16(1), int32(1)\n",
      "memory usage: 8.0 MB\n",
      "None\n"
     ]
    }
   ],
   "source": [
    "# 提取出taxi_id为0\\1\\2\\3的数据\n",
    "df_selected = df[df['taxi_id']<=100].copy() # 测试用\n",
    "# df_selected = df\n",
    "# 把time列形如:2014/8/3 06:00:53的数据转换成易于处理的形式\n",
    "df_selected['time']=pd.to_datetime(df_selected['time'],format='%Y/%m/%d %H:%M:%S')\n",
    "# 增加一列time_s,表示以秒为单位的时间\n",
    "df_selected['time_s']=df_selected['time'].dt.hour*3600+df_selected['time'].dt.minute*60+df_selected['time'].dt.second\n",
    "# 以taxi_id为第一关键字，以time为第二关键字，对数据进行排序\n",
    "df_selected=df_selected.sort_values(by=['taxi_id','time_s'])\n",
    "# 删除time列\n",
    "df_selected=df_selected.drop(['time'],axis=1)\n",
    "# passenger改为bool型\n",
    "df_selected['passenger']=df_selected['passenger'].astype('bool')\n",
    "# 把int64型的数据转换成int32型，减少内存占用\n",
    "df_selected['taxi_id']=df_selected['taxi_id'].astype('int16') # taxi_id不超过15000，可以用int16\n",
    "df_selected['time_s']=df_selected['time_s'].astype('int32')\n",
    "# 把float64型的数据转换成float32型，减少内存占用\n",
    "df_selected['longitude']=df_selected['longitude'].astype('float32')\n",
    "df_selected['latitude']=df_selected['latitude'].astype('float32')\n",
    "# 直接以dataframe的形式保存\n",
    "df_selected.to_pickle('df_selected.pkl')\n",
    "# 打印出每一列的数据类型以及各自占用的内存大小\n",
    "print(df_selected.info(memory_usage='deep'))"
   ]
  },
  {
   "cell_type": "markdown",
   "metadata": {},
   "source": [
    "这里开始保存了df_selected，去concur.py里跑（由于多进程的某些原因，需要在main函数里跑）\n",
    "\n",
    "下面这个块只是为了分析测试，不用管"
   ]
  },
  {
   "cell_type": "code",
   "execution_count": 10,
   "metadata": {
    "tags": [
     "可选的",
     "分析用"
    ]
   },
   "outputs": [
    {
     "name": "stdout",
     "output_type": "stream",
     "text": [
      "time_interval_min: 0.0\n",
      "time_interval_max: 9360.0\n",
      "taxi_num: 100\n",
      "                taxi_id   latitude   longitude  passenger  time_s\n",
      "taxi_id                                                          \n",
      "12      38555        12  30.597746  103.958145      False   31653\n",
      "        39934        12  30.659048  104.077415      False   50052\n",
      "28      81475        28  30.632174  104.137566      False   50245\n",
      "        81439        28  30.629587  104.136360      False   50276\n",
      "76      268963       76  30.647436  104.133156       True   52179\n",
      "        269466       76  30.666437  104.137047      False   66679\n",
      "86      308781       86  30.627325  104.138382      False   50216\n",
      "                taxi_id  latitude   longitude  passenger  time_s\n",
      "taxi_id                                                         \n",
      "36      108972       36  30.65279  104.063126      False   45921\n"
     ]
    }
   ],
   "source": [
    "# 每辆车的GPS数据采取的时间间隔最长和最短值\n",
    "time_interval_min = df_selected.groupby('taxi_id')['time_s'].diff().min()\n",
    "time_interval_max = df_selected.groupby('taxi_id')['time_s'].diff().max()\n",
    "print('time_interval_min:',time_interval_min)\n",
    "print('time_interval_max:',time_interval_max)\n",
    "\n",
    "# 车辆总数\n",
    "taxi_num = df_selected['taxi_id'].unique().shape[0]\n",
    "print('taxi_num:',taxi_num)\n",
    "\n",
    "# 找出每辆车 时间间隔为time_interval_min的数据\n",
    "df_test = df_selected.groupby('taxi_id').apply(lambda x:x[x['time_s'].diff()==time_interval_min])\n",
    "print(df_test)\n",
    "# 找出每辆车 时间间隔为time_interval_max的数据\n",
    "df_test = df_selected.groupby('taxi_id').apply(lambda x:x[x['time_s'].diff()==time_interval_max])\n",
    "print(df_test)"
   ]
  },
  {
   "cell_type": "markdown",
   "metadata": {},
   "source": [
    "跑完concur.py，下面进行一些筛除"
   ]
  },
  {
   "cell_type": "code",
   "execution_count": 24,
   "metadata": {},
   "outputs": [],
   "source": [
    "trip_df = pd.read_pickle('trip_df.pkl')"
   ]
  },
  {
   "cell_type": "code",
   "execution_count": 25,
   "metadata": {},
   "outputs": [
    {
     "name": "stdout",
     "output_type": "stream",
     "text": [
      "35\n",
      "0\n"
     ]
    }
   ],
   "source": [
    "# 检查有无路径长为0的轨迹\n",
    "print(len(trip_df[trip_df['distance'] == 0]))\n",
    "# 删除这些路径长为0的轨迹\n",
    "trip_df = trip_df[trip_df['distance'] != 0]\n",
    "print(len(trip_df[trip_df['distance'] == 0]))"
   ]
  },
  {
   "cell_type": "code",
   "execution_count": 26,
   "metadata": {},
   "outputs": [
    {
     "name": "stdout",
     "output_type": "stream",
     "text": [
      "217\n",
      "0\n"
     ]
    }
   ],
   "source": [
    "# 检查有无行程时间为0的轨迹\n",
    "print(len(trip_df[trip_df['start_time'] == trip_df['end_time']]))\n",
    "# 删除这些行程时间为0的轨迹\n",
    "trip_df = trip_df[trip_df['start_time'] != trip_df['end_time']]\n",
    "print(len(trip_df[trip_df['start_time'] == trip_df['end_time']]))"
   ]
  }
 ],
 "metadata": {
  "kernelspec": {
   "display_name": "aatroxchen_v",
   "language": "python",
   "name": "python3"
  },
  "language_info": {
   "codemirror_mode": {
    "name": "ipython",
    "version": 3
   },
   "file_extension": ".py",
   "mimetype": "text/x-python",
   "name": "python",
   "nbconvert_exporter": "python",
   "pygments_lexer": "ipython3",
   "version": "3.9.13"
  },
  "orig_nbformat": 4
 },
 "nbformat": 4,
 "nbformat_minor": 2
}
